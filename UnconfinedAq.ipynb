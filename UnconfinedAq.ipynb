{
 "cells": [
  {
   "cell_type": "markdown",
   "metadata": {},
   "source": [
    "# Unconfined Aquifer Practical\n",
    "This practical is a jupyter notebook version of Tutorial 2 of Flopy for demostrator purposes ONLY.\n",
    "\n",
    "The idea is that the students should be aware of how the orginal script functions. Please DO NOT give them the answer contained within here => Direct them to the manual pages (documentation) of Flopy and walk away. Give them a couple of minutes and come back in about 5 minutes once they have had a go and check they have been able to work it out. Support them reading the documentation and discuss approaches.\n",
    "\n",
    "If they have gone through the script like I asked them to last week (and like some have done) this should be a walk in a metaphorical park."
   ]
  },
  {
   "cell_type": "code",
   "execution_count": 60,
   "metadata": {
    "collapsed": true
   },
   "outputs": [],
   "source": [
    "%matplotlib inline  \n",
    "import numpy as np                                                                  \n",
    "import flopy"
   ]
  },
  {
   "cell_type": "markdown",
   "metadata": {},
   "source": [
    "### Discretization\n",
    "We start by creating our flopy model object as follows:\n",
    "\n",
    "For week 2 I have changed the modelname from 'confined' to 'unconfined'"
   ]
  },
  {
   "cell_type": "code",
   "execution_count": 61,
   "metadata": {
    "collapsed": true
   },
   "outputs": [],
   "source": [
    "# Assign name and create modflow model object                                    \n",
    "modelname = 'unconfined'                                                          \n",
    "mf = flopy.modflow.Modflow(modelname, exe_name='/Applications/ModflowExecutibles/mf2005')   "
   ]
  },
  {
   "cell_type": "markdown",
   "metadata": {},
   "source": [
    "This block is the same as last week -> do not touch!"
   ]
  },
  {
   "cell_type": "code",
   "execution_count": 62,
   "metadata": {
    "collapsed": true
   },
   "outputs": [],
   "source": [
    "# Model domain and grid definition\n",
    "# What do each one of these lines do? \n",
    "Lx = 1000.                                                                       \n",
    "Ly = 1000.                                                                       \n",
    "ztop = 0.                                                                        \n",
    "zbot = -50.                                                                      \n",
    "nlay = 1                                                                         \n",
    "nrow = 10                                                                        \n",
    "ncol = 10                                                                        \n",
    "delr = Lx/ncol                                                                   \n",
    "delc = Ly/nrow                                                                   \n",
    "delv = (ztop - zbot) / nlay                                                      \n",
    "botm = np.linspace(ztop, zbot, nlay + 1)  "
   ]
  },
  {
   "cell_type": "markdown",
   "metadata": {},
   "source": [
    "They need to add the new timestep information in here (or at least before invoking the dis object)."
   ]
  },
  {
   "cell_type": "code",
   "execution_count": 63,
   "metadata": {
    "collapsed": true
   },
   "outputs": [],
   "source": [
    "# Time step parameters\n",
    "nper = 3\n",
    "perlen = [1, 100, 100]\n",
    "nstp = [1, 100, 100]\n",
    "steady = [True, False, False]"
   ]
  },
  {
   "cell_type": "markdown",
   "metadata": {},
   "source": [
    "Adding ,nper=nper, perlen=perlen, nstp=nstp, steady=steady to the end of the dis object"
   ]
  },
  {
   "cell_type": "code",
   "execution_count": 64,
   "metadata": {
    "collapsed": false
   },
   "outputs": [],
   "source": [
    "# Create the discretization object\n",
    "dis = flopy.modflow.ModflowDis(mf, nlay, nrow, ncol, delr=delr, delc=delc,\n",
    "                               top=ztop, botm=botm[1:],nper=nper, perlen=perlen, nstp=nstp, steady=steady)"
   ]
  },
  {
   "cell_type": "markdown",
   "metadata": {},
   "source": [
    "## Basic Package\n",
    "\n",
    "Very simiply we remove the following\n",
    "\n",
    "ibound[:, :, 0] = -1\n",
    "\n",
    "ibound[:, :, -1] = -1\n",
    "\n",
    "AND\n",
    "\n",
    "strt[:, :, 0] = 10.\n",
    "\n",
    "strt[:, :, -1] = 0.\n",
    "\n",
    "THEN WE ALSO multiply np.ones by 10\n",
    "\n",
    "strt = 10. * np.ones((nlay, nrow, ncol), dtype=np.float32)\n",
    "\n",
    "\n"
   ]
  },
  {
   "cell_type": "code",
   "execution_count": 65,
   "metadata": {
    "collapsed": false
   },
   "outputs": [],
   "source": [
    "# Variables for the BAS package\n",
    "ibound = np.ones((nlay, nrow, ncol), dtype=np.int32)\n",
    "strt = 10. * np.ones((nlay, nrow, ncol), dtype=np.float32)\n",
    "bas = flopy.modflow.ModflowBas(mf, ibound=ibound, strt=strt)"
   ]
  },
  {
   "cell_type": "markdown",
   "metadata": {},
   "source": [
    "## Layer-Property Flow Package\n",
    "\n",
    "add the following as a new set of variables\n",
    "\n",
    "If they have a look at the manual it should be very straightforward to figure out what to do here\n",
    "\n",
    "in the old version \n",
    "\n",
    "lpf = flopy.modflow.ModflowLpf(mf, hk=10., vka=10., ipakcb=53)\n",
    "\n",
    "hk=10. is described explicity - I've just moved it to a new variable"
   ]
  },
  {
   "cell_type": "code",
   "execution_count": 66,
   "metadata": {
    "collapsed": true
   },
   "outputs": [],
   "source": [
    "hk = 10.\n",
    "vka = 1.\n",
    "sy = 0.1\n",
    "ss = 1.e-4\n",
    "laytyp = 1"
   ]
  },
  {
   "cell_type": "markdown",
   "metadata": {},
   "source": [
    "Ammend lpf from the following\n",
    "\n",
    "lpf = flopy.modflow.ModflowLpf(mf, hk=10., vka=10., ipakcb=53) "
   ]
  },
  {
   "cell_type": "code",
   "execution_count": 67,
   "metadata": {
    "collapsed": false,
    "scrolled": true
   },
   "outputs": [],
   "source": [
    "# Add LPF package to the MODFLOW model                                           \n",
    "lpf = flopy.modflow.ModflowLpf(mf, hk=hk, vka=vka, sy=sy, ss=ss, laytyp=laytyp)"
   ]
  },
  {
   "cell_type": "markdown",
   "metadata": {},
   "source": [
    "# Transient General-Head Boundary Package\n",
    "\n",
    "Adding in details about the transient general head boundary package"
   ]
  },
  {
   "cell_type": "code",
   "execution_count": 68,
   "metadata": {
    "collapsed": false
   },
   "outputs": [
    {
     "name": "stdout",
     "output_type": "stream",
     "text": [
      "Adding  20 GHBs for stress period 1.\n",
      "Adding  20 GHBs for stress period 2.\n"
     ]
    }
   ],
   "source": [
    "# Make list for stress period 1\n",
    "stageleft = 10.\n",
    "stageright = 10.\n",
    "bound_sp1 = []\n",
    "for il in range(nlay):\n",
    "    condleft = hk * (stageleft - zbot) * delc\n",
    "    condright = hk * (stageright - zbot) * delc\n",
    "    for ir in range(nrow):\n",
    "        bound_sp1.append([il, ir, 0, stageleft, condleft])\n",
    "        bound_sp1.append([il, ir, ncol - 1, stageright, condright])\n",
    "print ('Adding ', len(bound_sp1), 'GHBs for stress period 1.')\n",
    "\n",
    "# Make list for stress period 2\n",
    "stageleft = 10.\n",
    "stageright = 0.\n",
    "condleft = hk * (stageleft - zbot) * delc\n",
    "condright = hk * (stageright - zbot) * delc\n",
    "bound_sp2 = []\n",
    "for il in range(nlay):\n",
    "    for ir in range(nrow):\n",
    "        bound_sp2.append([il, ir, 0, stageleft, condleft])\n",
    "        bound_sp2.append([il, ir, ncol - 1, stageright, condright])\n",
    "print ('Adding ', len(bound_sp2), 'GHBs for stress period 2.')\n",
    "\n",
    "# We do not need to add a dictionary entry for stress period 3.\n",
    "# Flopy will automatically take the list from stess period 2 and apply it\n",
    "# to the end of the simulation, if necessary\n",
    "stress_period_data = {0: bound_sp1, 1: bound_sp2}\n",
    "\n",
    "# Create the flopy ghb object\n",
    "ghb = flopy.modflow.ModflowGhb(mf, stress_period_data=stress_period_data)\n"
   ]
  },
  {
   "cell_type": "markdown",
   "metadata": {},
   "source": [
    "# Create the transient well package\n",
    "\n",
    "This is new, again another copy and paste job"
   ]
  },
  {
   "cell_type": "code",
   "execution_count": 69,
   "metadata": {
    "collapsed": false
   },
   "outputs": [],
   "source": [
    "# Create the well package\n",
    "# Remember to use zero-based layer, row, column indices!\n",
    "pumping_rate = -100.\n",
    "wel_sp1 = [[0, nrow/2 - 1, ncol/2 - 1, 0.]]\n",
    "wel_sp2 = [[0, nrow/2 - 1, ncol/2 - 1, 0.]]\n",
    "wel_sp3 = [[0, nrow/2 - 1, ncol/2 - 1, pumping_rate]]\n",
    "stress_period_data = {0: wel_sp1, 1: wel_sp2, 2: wel_sp3}\n",
    "wel = flopy.modflow.ModflowWel(mf, stress_period_data=stress_period_data)"
   ]
  },
  {
   "cell_type": "markdown",
   "metadata": {},
   "source": [
    "## Output Control\n",
    "\n",
    "Details on the flopy OC class are at: http://modflowpy.github.io/flopydoc/mfoc.html. Here we can use the default OC settings by specifying the following:\n",
    "\n",
    "I think all we do here is just lose compact=True"
   ]
  },
  {
   "cell_type": "code",
   "execution_count": 70,
   "metadata": {
    "collapsed": false
   },
   "outputs": [],
   "source": [
    "# Output control\n",
    "spd = {(0, 0): ['print head', 'save head', 'print budget', 'save budget']}\n",
    "oc = flopy.modflow.ModflowOc(mf, stress_period_data=spd)\n"
   ]
  },
  {
   "cell_type": "markdown",
   "metadata": {},
   "source": [
    "## Preconditioned Conjugate Gradient Package\n",
    "\n",
    "Details on the flopy PCG class are at: http://modflowpy.github.io/flopydoc/mfpcg.html. The default settings used by flopy will be used by specifying the following commands:\n"
   ]
  },
  {
   "cell_type": "code",
   "execution_count": 71,
   "metadata": {
    "collapsed": true
   },
   "outputs": [],
   "source": [
    "# Add PCG package to the MODFLOW model\n",
    "pcg = flopy.modflow.ModflowPcg(mf)"
   ]
  },
  {
   "cell_type": "markdown",
   "metadata": {},
   "source": [
    "## Writing the MODFLOW Data Files\n",
    "\n",
    "The MODFLOW input data files are written by simply issuing the following:"
   ]
  },
  {
   "cell_type": "code",
   "execution_count": 72,
   "metadata": {
    "collapsed": false
   },
   "outputs": [
    {
     "name": "stdout",
     "output_type": "stream",
     "text": [
      "warning: assuming SpatialReference units are meters\n"
     ]
    }
   ],
   "source": [
    "# Write the MODFLOW model input files\n",
    "mf.write_input()"
   ]
  },
  {
   "cell_type": "markdown",
   "metadata": {},
   "source": [
    "## Running the Modeling\n",
    "If they have problems here likely that executible is in the wrong location"
   ]
  },
  {
   "cell_type": "code",
   "execution_count": 73,
   "metadata": {
    "collapsed": false
   },
   "outputs": [],
   "source": [
    "\n",
    "# Run the model\n",
    "success, mfoutput = mf.run_model(silent=True, pause=False, report=True)\n",
    "if not success:\n",
    "    raise Exception('MODFLOW did not terminate normally.')\n"
   ]
  },
  {
   "cell_type": "markdown",
   "metadata": {},
   "source": [
    "## Post-Processing the Results\n",
    "OK post processing is a copy and paste job"
   ]
  },
  {
   "cell_type": "code",
   "execution_count": 74,
   "metadata": {
    "collapsed": false
   },
   "outputs": [
    {
     "name": "stdout",
     "output_type": "stream",
     "text": [
      "Levels:  [1 2 3 4 5 6 7 8 9]\n",
      "Extent:  (50.0, 950.0, 50.0, 950.0)\n",
      "*****Processing time:  1.0\n",
      "Head statistics\n",
      "  min:  10.0\n",
      "  max:  10.0\n",
      "  std:  0.0\n"
     ]
    },
    {
     "data": {
      "image/png": "[encoded data removed]",
      "text/plain": [
       "<matplotlib.figure.Figure at 0x106f3ef60>"
      ]
     },
     "metadata": {},
     "output_type": "display_data"
    },
    {
     "name": "stdout",
     "output_type": "stream",
     "text": [
      "*****Processing time:  101.0\n",
      "Head statistics\n",
      "  min:  0.0110885\n",
      "  max:  9.99076\n",
      "  std:  3.18494\n"
     ]
    },
    {
     "data": {
      "image/png": "[encoded data removed]",
      "text/plain": [
       "<matplotlib.figure.Figure at 0x1072c4d68>"
      ]
     },
     "metadata": {},
     "output_type": "display_data"
    },
    {
     "name": "stdout",
     "output_type": "stream",
     "text": [
      "*****Processing time:  201.0\n",
      "Head statistics\n",
      "  min:  0.0109783\n",
      "  max:  9.9907\n",
      "  std:  3.18382\n"
     ]
    },
    {
     "data": {
      "image/png": "[encoded data removed]",
      "text/plain": [
       "<matplotlib.figure.Figure at 0x106ffb668>"
      ]
     },
     "metadata": {},
     "output_type": "display_data"
    },
    {
     "data": {
      "image/png": "[encoded data removed]",
      "text/plain": [
       "<matplotlib.figure.Figure at 0x106dc3400>"
      ]
     },
     "metadata": {},
     "output_type": "display_data"
    }
   ],
   "source": [
    "#Import the libraries\n",
    "import matplotlib.pyplot as plt                                                  \n",
    "import flopy.utils.binaryfile as bf   \n",
    "\n",
    "# Create the headfile object\n",
    "headobj = bf.HeadFile(modelname+'.hds')\n",
    "times = headobj.get_times()\n",
    "\n",
    "# Setup contour parameters\n",
    "levels = np.arange(1, 10, 1) # same as tutorial 1\n",
    "extent = (delr/2., Lx - delr/2., delc/2., Ly - delc/2.)\t# same as tutorial 1\n",
    "print ('Levels: ', levels)\n",
    "print ('Extent: ', extent)\n",
    "# Well point\n",
    "wpt = ((float(ncol/2)-0.5)*delr, (float(nrow/2-1)+0.5)*delc)\n",
    "wpt = (450., 550.)\n",
    "\n",
    "# Make the plots\n",
    "mytimes = [1.0, 101.0, 201.0]\n",
    "for iplot, time in enumerate(mytimes):\n",
    "    print ('*****Processing time: ', time)\n",
    "    head = headobj.get_data(totim=time)\n",
    "    #Print statistics\n",
    "    print ('Head statistics')\n",
    "    print ('  min: ', head.min())\n",
    "    print ('  max: ', head.max())\n",
    "    print ('  std: ', head.std())\n",
    "\n",
    "    #Create the plot\n",
    "    #plt.subplot(1, len(mytimes), iplot + 1, aspect='equal')\n",
    "    plt.subplot(1, 1, 1, aspect='equal')\n",
    "    plt.title('stress period ' + str(iplot + 1)) # plot title\n",
    "    plt.imshow(head[0, :, :], extent=extent, cmap='BrBG', vmin=0., vmax=10.)\n",
    "    plt.colorbar() # plot colourbar\n",
    "    CS = plt.contour(np.flipud(head[0, :, :]), levels=levels, extent=extent,\n",
    "                     zorder=10)\n",
    "    plt.clabel(CS, inline=1, fontsize=10, fmt='%1.1f', zorder=11)\t# plot contour label\n",
    "    mfc = 'None'\n",
    "    if (iplot+1) == len(mytimes):\n",
    "        mfc='black'\n",
    "    plt.plot(wpt[0], wpt[1], lw=0, marker='o', markersize=8,\n",
    "             markeredgewidth=0.5,\n",
    "             markeredgecolor='black', markerfacecolor=mfc, zorder=9)\n",
    "    plt.text(wpt[0]+25, wpt[1]-25, 'well', size=12, zorder=12)\n",
    "    plt.show()\n",
    "\n",
    "plt.show() # same as tutorial1\n",
    "\n",
    "# Plot the head versus time\n",
    "idx = (0, nrow/2 - 1, ncol/2 - 1)\n",
    "ts = headobj.get_ts(idx)\n",
    "plt.subplot(1, 1, 1)\n",
    "ttl = 'Head at cell ({0},{1},{2})'.format(idx[0] + 1, idx[1] + 1, idx[2] + 1)\n",
    "plt.title(ttl)\n",
    "plt.xlabel('time')\n",
    "plt.ylabel('head')\n",
    "plt.plot(ts[:, 0], ts[:, 1])\n",
    "plt.show()\n"
   ]
  },
  {
   "cell_type": "markdown",
   "metadata": {
    "collapsed": true
   },
   "source": []
  }
 ],
 "metadata": {
  "anaconda-cloud": {},
  "kernelspec": {
   "display_name": "Python [conda root]",
   "language": "python",
   "name": "conda-root-py"
  },
  "language_info": {
   "codemirror_mode": {
    "name": "ipython",
    "version": 3
   },
   "file_extension": ".py",
   "mimetype": "text/x-python",
   "name": "python",
   "nbconvert_exporter": "python",
   "pygments_lexer": "ipython3",
   "version": "3.5.2"
  }
 },
 "nbformat": 4,
 "nbformat_minor": 2
}
